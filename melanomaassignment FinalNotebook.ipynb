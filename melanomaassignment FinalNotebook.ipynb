{
 "cells": [
  {
   "cell_type": "code",
   "execution_count": 1,
   "id": "165a60d5",
   "metadata": {
    "_cell_guid": "b1076dfc-b9ad-4769-8c92-a6c4dae69d19",
    "_uuid": "8f2839f25d086af736a60e9eeb907d3b93b6e0e5",
    "execution": {
     "iopub.execute_input": "2024-05-06T20:02:34.142384Z",
     "iopub.status.busy": "2024-05-06T20:02:34.141474Z",
     "iopub.status.idle": "2024-05-06T20:02:53.366556Z",
     "shell.execute_reply": "2024-05-06T20:02:53.365174Z"
    },
    "papermill": {
     "duration": 19.238249,
     "end_time": "2024-05-06T20:02:53.370256",
     "exception": false,
     "start_time": "2024-05-06T20:02:34.132007",
     "status": "completed"
    },
    "tags": []
   },
   "outputs": [
    {
     "name": "stderr",
     "output_type": "stream",
     "text": [
      "2024-05-06 20:02:39.834723: E external/local_xla/xla/stream_executor/cuda/cuda_dnn.cc:9261] Unable to register cuDNN factory: Attempting to register factory for plugin cuDNN when one has already been registered\n",
      "2024-05-06 20:02:39.834897: E external/local_xla/xla/stream_executor/cuda/cuda_fft.cc:607] Unable to register cuFFT factory: Attempting to register factory for plugin cuFFT when one has already been registered\n",
      "2024-05-06 20:02:40.035074: E external/local_xla/xla/stream_executor/cuda/cuda_blas.cc:1515] Unable to register cuBLAS factory: Attempting to register factory for plugin cuBLAS when one has already been registered\n"
     ]
    }
   ],
   "source": [
    "import numpy as np\n",
    "import pandas as pd\n",
    "from matplotlib import pyplot as plt\n",
    "from matplotlib.image import imread #Read Images\n",
    "\n",
    "import cv2 as cv\n",
    "import pathlib\n",
    "import os\n",
    "from sklearn.model_selection import train_test_split\n",
    "from sklearn.metrics import confusion_matrix\n",
    "from PIL import Image\n",
    "from keras.models import load_model\n",
    "from keras.layers import Resizing\n",
    "import tensorflow as tf\n",
    "from tensorflow.keras.utils import image_dataset_from_directory as tfks\n"
   ]
  },
  {
   "cell_type": "code",
   "execution_count": 2,
   "id": "21442e55",
   "metadata": {
    "execution": {
     "iopub.execute_input": "2024-05-06T20:02:53.387250Z",
     "iopub.status.busy": "2024-05-06T20:02:53.386503Z",
     "iopub.status.idle": "2024-05-06T20:02:53.489126Z",
     "shell.execute_reply": "2024-05-06T20:02:53.487559Z"
    },
    "papermill": {
     "duration": 0.114378,
     "end_time": "2024-05-06T20:02:53.492110",
     "exception": false,
     "start_time": "2024-05-06T20:02:53.377732",
     "status": "completed"
    },
    "tags": []
   },
   "outputs": [],
   "source": [
    "root_path= '../input/jpeg-isic2019-512x512/'\n",
    "meta =pd.read_csv(root_path+'train.csv')\n",
    "#meta.info()   #[DISPLAY]"
   ]
  },
  {
   "cell_type": "code",
   "execution_count": 3,
   "id": "966ea306",
   "metadata": {
    "execution": {
     "iopub.execute_input": "2024-05-06T20:02:53.508629Z",
     "iopub.status.busy": "2024-05-06T20:02:53.508190Z",
     "iopub.status.idle": "2024-05-06T20:02:53.549958Z",
     "shell.execute_reply": "2024-05-06T20:02:53.548629Z"
    },
    "papermill": {
     "duration": 0.05389,
     "end_time": "2024-05-06T20:02:53.552849",
     "exception": false,
     "start_time": "2024-05-06T20:02:53.498959",
     "status": "completed"
    },
    "tags": []
   },
   "outputs": [
    {
     "data": {
      "text/plain": [
       "target\n",
       "0    0.821484\n",
       "1    0.178516\n",
       "Name: proportion, dtype: float64"
      ]
     },
     "execution_count": 3,
     "metadata": {},
     "output_type": "execute_result"
    }
   ],
   "source": [
    "meta[\"path_jpeg\"]=root_path+'train/'+meta[\"image_name\"]+\".jpg\" #Add Image Path to the data frame\n",
    "meta[\"target\"].value_counts(normalize=True) #Non-Melanoma vs Melanoma (Normalized for proportional representation)"
   ]
  },
  {
   "cell_type": "code",
   "execution_count": 4,
   "id": "4a7d640a",
   "metadata": {
    "execution": {
     "iopub.execute_input": "2024-05-06T20:02:53.570116Z",
     "iopub.status.busy": "2024-05-06T20:02:53.569684Z",
     "iopub.status.idle": "2024-05-06T20:02:53.661986Z",
     "shell.execute_reply": "2024-05-06T20:02:53.660482Z"
    },
    "papermill": {
     "duration": 0.104688,
     "end_time": "2024-05-06T20:02:53.665277",
     "exception": false,
     "start_time": "2024-05-06T20:02:53.560589",
     "status": "completed"
    },
    "tags": []
   },
   "outputs": [],
   "source": [
    "X=meta[\"path_jpeg\"]\n",
    "Y=meta[\"benign_malignant\"]\n",
    "X_use, X_test, Y_use, Y_test = train_test_split(X, Y, test_size=0.15, random_state=0, stratify=Y) #Split into testing data and data that will be used\n",
    "#for training/validation. Stratify adds class labels\n",
    "X_train, X_val, Y_train, Y_val = train_test_split(X_use, Y_use, test_size=0.25, random_state=0, stratify=Y_use)\n",
    "#Training data and validation set\n",
    "\n",
    "#Then recombine the training sets into a single pandas Dataframe\n",
    "training_DF=pd.concat([X_train,Y_train],axis=1) #Axis determines concatenation direction\n",
    "#training_DF   #[DISPLAY]"
   ]
  },
  {
   "cell_type": "code",
   "execution_count": 5,
   "id": "988c5794",
   "metadata": {
    "execution": {
     "iopub.execute_input": "2024-05-06T20:02:53.682229Z",
     "iopub.status.busy": "2024-05-06T20:02:53.681795Z",
     "iopub.status.idle": "2024-05-06T20:02:53.698038Z",
     "shell.execute_reply": "2024-05-06T20:02:53.696587Z"
    },
    "papermill": {
     "duration": 0.027844,
     "end_time": "2024-05-06T20:02:53.700987",
     "exception": false,
     "start_time": "2024-05-06T20:02:53.673143",
     "status": "completed"
    },
    "tags": []
   },
   "outputs": [
    {
     "name": "stdout",
     "output_type": "stream",
     "text": [
      "--Meta--\n"
     ]
    },
    {
     "data": {
      "text/plain": [
       "target\n",
       "0    0.821484\n",
       "1    0.178516\n",
       "Name: proportion, dtype: float64"
      ]
     },
     "execution_count": 5,
     "metadata": {},
     "output_type": "execute_result"
    }
   ],
   "source": [
    "#Repeat for the validation set\n",
    "validation_DF=pd.concat([X_val,Y_val],axis=1)\n",
    "#and for the testing set\n",
    "testing_DF=pd.concat([X_test,Y_test],axis=1)\n",
    "\n",
    "#Test that they have the same distribution as Meta, 2 cells above\n",
    "print(\"--Meta--\")\n",
    "meta[\"target\"].value_counts(normalize=True)"
   ]
  },
  {
   "cell_type": "code",
   "execution_count": 6,
   "id": "b79c3e2a",
   "metadata": {
    "execution": {
     "iopub.execute_input": "2024-05-06T20:02:53.718352Z",
     "iopub.status.busy": "2024-05-06T20:02:53.717815Z",
     "iopub.status.idle": "2024-05-06T20:02:53.734658Z",
     "shell.execute_reply": "2024-05-06T20:02:53.733094Z"
    },
    "papermill": {
     "duration": 0.028844,
     "end_time": "2024-05-06T20:02:53.737503",
     "exception": false,
     "start_time": "2024-05-06T20:02:53.708659",
     "status": "completed"
    },
    "tags": []
   },
   "outputs": [
    {
     "name": "stdout",
     "output_type": "stream",
     "text": [
      "--Training--\n"
     ]
    },
    {
     "data": {
      "text/plain": [
       "benign_malignant\n",
       "benign       0.821464\n",
       "malignant    0.178536\n",
       "Name: proportion, dtype: float64"
      ]
     },
     "execution_count": 6,
     "metadata": {},
     "output_type": "execute_result"
    }
   ],
   "source": [
    "#For Training\n",
    "print(\"--Training--\")\n",
    "training_DF[\"benign_malignant\"].value_counts(normalize=True)"
   ]
  },
  {
   "cell_type": "code",
   "execution_count": 7,
   "id": "f77abaa2",
   "metadata": {
    "execution": {
     "iopub.execute_input": "2024-05-06T20:02:53.755589Z",
     "iopub.status.busy": "2024-05-06T20:02:53.754709Z",
     "iopub.status.idle": "2024-05-06T20:02:53.767183Z",
     "shell.execute_reply": "2024-05-06T20:02:53.766038Z"
    },
    "papermill": {
     "duration": 0.024779,
     "end_time": "2024-05-06T20:02:53.769789",
     "exception": false,
     "start_time": "2024-05-06T20:02:53.745010",
     "status": "completed"
    },
    "tags": []
   },
   "outputs": [
    {
     "name": "stdout",
     "output_type": "stream",
     "text": [
      "--Testing--\n"
     ]
    },
    {
     "data": {
      "text/plain": [
       "benign_malignant\n",
       "benign       0.821579\n",
       "malignant    0.178421\n",
       "Name: proportion, dtype: float64"
      ]
     },
     "execution_count": 7,
     "metadata": {},
     "output_type": "execute_result"
    }
   ],
   "source": [
    "#For Testing\n",
    "print(\"--Testing--\")\n",
    "testing_DF[\"benign_malignant\"].value_counts(normalize=True)"
   ]
  },
  {
   "cell_type": "code",
   "execution_count": 8,
   "id": "b9ac203b",
   "metadata": {
    "execution": {
     "iopub.execute_input": "2024-05-06T20:02:53.788280Z",
     "iopub.status.busy": "2024-05-06T20:02:53.787430Z",
     "iopub.status.idle": "2024-05-06T20:02:53.800846Z",
     "shell.execute_reply": "2024-05-06T20:02:53.799564Z"
    },
    "papermill": {
     "duration": 0.02598,
     "end_time": "2024-05-06T20:02:53.803541",
     "exception": false,
     "start_time": "2024-05-06T20:02:53.777561",
     "status": "completed"
    },
    "tags": []
   },
   "outputs": [
    {
     "name": "stdout",
     "output_type": "stream",
     "text": [
      "--Validation--\n"
     ]
    },
    {
     "data": {
      "text/plain": [
       "benign_malignant\n",
       "benign       0.821475\n",
       "malignant    0.178525\n",
       "Name: proportion, dtype: float64"
      ]
     },
     "execution_count": 8,
     "metadata": {},
     "output_type": "execute_result"
    }
   ],
   "source": [
    "#For Testing\n",
    "print(\"--Validation--\")\n",
    "validation_DF[\"benign_malignant\"].value_counts(normalize=True)"
   ]
  },
  {
   "cell_type": "code",
   "execution_count": null,
   "id": "bf427d4c",
   "metadata": {
    "papermill": {
     "duration": 0.007686,
     "end_time": "2024-05-06T20:02:53.819162",
     "exception": false,
     "start_time": "2024-05-06T20:02:53.811476",
     "status": "completed"
    },
    "tags": []
   },
   "outputs": [],
   "source": []
  },
  {
   "cell_type": "code",
   "execution_count": 9,
   "id": "ca116c6a",
   "metadata": {
    "execution": {
     "iopub.execute_input": "2024-05-06T20:02:53.837360Z",
     "iopub.status.busy": "2024-05-06T20:02:53.836807Z",
     "iopub.status.idle": "2024-05-06T20:02:54.280629Z",
     "shell.execute_reply": "2024-05-06T20:02:54.279586Z"
    },
    "papermill": {
     "duration": 0.456442,
     "end_time": "2024-05-06T20:02:54.283596",
     "exception": false,
     "start_time": "2024-05-06T20:02:53.827154",
     "status": "completed"
    },
    "tags": []
   },
   "outputs": [],
   "source": [
    "files = [f for f in os.listdir(\"/kaggle/input/jpeg-isic2019-512x512/train\")]\n",
    "files.sort()\n"
   ]
  },
  {
   "cell_type": "code",
   "execution_count": 10,
   "id": "2ada6a72",
   "metadata": {
    "execution": {
     "iopub.execute_input": "2024-05-06T20:02:54.303049Z",
     "iopub.status.busy": "2024-05-06T20:02:54.302388Z",
     "iopub.status.idle": "2024-05-06T20:10:59.026452Z",
     "shell.execute_reply": "2024-05-06T20:10:59.025112Z"
    },
    "papermill": {
     "duration": 484.740314,
     "end_time": "2024-05-06T20:10:59.031925",
     "exception": false,
     "start_time": "2024-05-06T20:02:54.291611",
     "status": "completed"
    },
    "tags": []
   },
   "outputs": [],
   "source": [
    "baseDir=\"/kaggle/input/jpeg-isic2019-512x512/train/\"\n",
    "\n",
    "\n",
    "def rgb2grey(rgb):\n",
    "    return np.dot(rgb[...,:3], [0.2989, 0.5870, 0.1140]) #Convert to greyscale\n",
    "\n",
    "def getFlattened(n):\n",
    "    return rgb2grey(imread(baseDir+n)).flatten()[::16].copy() #Every 16 pieces of data (512*512/16 or 128*128)\n",
    "datamap=map(getFlattened,files)\n",
    "data=np.fromiter(datamap,dtype=np.dtype((int, 128*128))) #Converted to 128*128\n",
    "#Add to dataset and flatten\n",
    "with open('flattenedData.npy', 'wb') as f:\n",
    "    np.save(f,data)\n"
   ]
  },
  {
   "cell_type": "code",
   "execution_count": 11,
   "id": "a146d8df",
   "metadata": {
    "execution": {
     "iopub.execute_input": "2024-05-06T20:10:59.138330Z",
     "iopub.status.busy": "2024-05-06T20:10:59.137121Z",
     "iopub.status.idle": "2024-05-06T20:10:59.160986Z",
     "shell.execute_reply": "2024-05-06T20:10:59.159545Z"
    },
    "papermill": {
     "duration": 0.094803,
     "end_time": "2024-05-06T20:10:59.165498",
     "exception": false,
     "start_time": "2024-05-06T20:10:59.070695",
     "status": "completed"
    },
    "tags": []
   },
   "outputs": [],
   "source": [
    "#Split the labels\n",
    "def labelSymbolise(x):\n",
    "    if x==\"benign\":\n",
    "        return 0\n",
    "    return 1\n",
    "\n",
    "def get_labels(dataf):\n",
    "    vfunc=np.vectorize(labelSymbolise)\n",
    "    return vfunc(np.array(dataf[\"benign_malignant\"]))\n",
    "train_labels = get_labels(training_DF)\n",
    "val_labels=get_labels(validation_DF)\n",
    "test_labels=get_labels(testing_DF)\n",
    "#for i in range(100):\n",
    "    #print(a[i])"
   ]
  },
  {
   "cell_type": "code",
   "execution_count": 12,
   "id": "457fd637",
   "metadata": {
    "execution": {
     "iopub.execute_input": "2024-05-06T20:10:59.235091Z",
     "iopub.status.busy": "2024-05-06T20:10:59.233400Z",
     "iopub.status.idle": "2024-05-06T20:10:59.261402Z",
     "shell.execute_reply": "2024-05-06T20:10:59.259418Z"
    },
    "papermill": {
     "duration": 0.042777,
     "end_time": "2024-05-06T20:10:59.264225",
     "exception": false,
     "start_time": "2024-05-06T20:10:59.221448",
     "status": "completed"
    },
    "tags": []
   },
   "outputs": [
    {
     "name": "stdout",
     "output_type": "stream",
     "text": [
      "/kaggle/input/jpeg-isic2019-512x512/train/ISIC_0000000.jpg\n",
      "0000000.jpg\n"
     ]
    }
   ],
   "source": [
    "#Split the images\n",
    "def get_filename(n):\n",
    "    return baseDir+n\n",
    "fileList=list(map(get_filename,files))\n",
    "print(fileList[0])\n",
    "#Identical\n",
    "print(fileList[0][len(fileList[0])-11:])"
   ]
  },
  {
   "cell_type": "code",
   "execution_count": 13,
   "id": "4c9fbaaa",
   "metadata": {
    "execution": {
     "iopub.execute_input": "2024-05-06T20:10:59.373808Z",
     "iopub.status.busy": "2024-05-06T20:10:59.373415Z",
     "iopub.status.idle": "2024-05-06T20:12:31.848819Z",
     "shell.execute_reply": "2024-05-06T20:12:31.844877Z"
    },
    "papermill": {
     "duration": 92.548354,
     "end_time": "2024-05-06T20:12:31.856097",
     "exception": false,
     "start_time": "2024-05-06T20:10:59.307743",
     "status": "completed"
    },
    "tags": []
   },
   "outputs": [],
   "source": [
    "def find(l, s): #Find substrings in list\n",
    "    for i in range(len(l)):\n",
    "        if l[i].find(s)!=-1:\n",
    "            return i\n",
    "    return None # Or -1\n",
    "\n",
    "def concat_ToStringID(x):\n",
    "    search_term=str(x[42:49]) #7-digit Identifier\n",
    "    index = find(fileList,search_term)\n",
    "    return index\n",
    "def get_wantedIndices(dataf):\n",
    "    vfunc=np.vectorize(concat_ToStringID)\n",
    "    return vfunc(np.array(dataf[\"path_jpeg\"]))\n",
    "\n",
    "testing_images = data[get_wantedIndices(testing_DF)]\n",
    "training_images = data[get_wantedIndices(training_DF)]\n",
    "validation_images = data[get_wantedIndices(validation_DF)]\n",
    "\n"
   ]
  },
  {
   "cell_type": "code",
   "execution_count": 14,
   "id": "0faa6cb9",
   "metadata": {
    "execution": {
     "iopub.execute_input": "2024-05-06T20:12:31.881992Z",
     "iopub.status.busy": "2024-05-06T20:12:31.881223Z",
     "iopub.status.idle": "2024-05-06T20:12:31.897917Z",
     "shell.execute_reply": "2024-05-06T20:12:31.896318Z"
    },
    "papermill": {
     "duration": 0.03398,
     "end_time": "2024-05-06T20:12:31.901977",
     "exception": false,
     "start_time": "2024-05-06T20:12:31.867997",
     "status": "completed"
    },
    "tags": []
   },
   "outputs": [
    {
     "name": "stdout",
     "output_type": "stream",
     "text": [
      "Number of Training Images : 16148\n",
      "Number of Testing Images : 3800\n",
      "Number of Validation Images : 5383\n",
      "Testing Images Shape : (3800, 128, 128, 1)\n",
      "Training Images Shape : (16148, 128, 128, 1)\n",
      "Validation Images Shape : (5383, 128, 128, 1)\n"
     ]
    }
   ],
   "source": [
    "#Print how many of each we have\n",
    "print(\"Number of Training Images : \" +str(training_images.shape[0]))\n",
    "print(\"Number of Testing Images : \" +str(testing_images.shape[0]))\n",
    "print(\"Number of Validation Images : \" +str(validation_images.shape[0]))\n",
    "#Reshape into 128*128\n",
    "def shapen(inDat):\n",
    "    print(inDat)\n",
    "    return np.reshape(inDat,(-1,128,128))\n",
    "vfunc=np.vectorize(shapen)\n",
    "testing_images=np.reshape(testing_images,(-1,128,128,1)) #Converts it to 128*128 NPy Array\n",
    "training_images=np.reshape(training_images,(-1,128,128,1))\n",
    "validation_images=np.reshape(validation_images,(-1,128,128,1))#Has to have a fourth dimension ('1') for the keras Convolution model\n",
    "print(\"Testing Images Shape : \"+str(testing_images.shape))\n",
    "print(\"Training Images Shape : \"+str(training_images.shape))\n",
    "print(\"Validation Images Shape : \"+str(validation_images.shape))"
   ]
  },
  {
   "cell_type": "code",
   "execution_count": 15,
   "id": "381c3fee",
   "metadata": {
    "execution": {
     "iopub.execute_input": "2024-05-06T20:12:31.926527Z",
     "iopub.status.busy": "2024-05-06T20:12:31.925795Z",
     "iopub.status.idle": "2024-05-06T22:26:23.536129Z",
     "shell.execute_reply": "2024-05-06T22:26:23.531674Z"
    },
    "papermill": {
     "duration": 8032.844005,
     "end_time": "2024-05-06T22:26:24.758377",
     "exception": false,
     "start_time": "2024-05-06T20:12:31.914372",
     "status": "completed"
    },
    "tags": []
   },
   "outputs": [
    {
     "name": "stderr",
     "output_type": "stream",
     "text": [
      "/opt/conda/lib/python3.10/site-packages/keras/src/layers/convolutional/base_conv.py:99: UserWarning: Do not pass an `input_shape`/`input_dim` argument to a layer. When using Sequential models, prefer using an `Input(shape)` object as the first layer in the model instead.\n",
      "  super().__init__(\n"
     ]
    },
    {
     "data": {
      "text/html": [
       "<pre style=\"white-space:pre;overflow-x:auto;line-height:normal;font-family:Menlo,'DejaVu Sans Mono',consolas,'Courier New',monospace\"><span style=\"font-weight: bold\">Model: \"Convolution_Model\"</span>\n",
       "</pre>\n"
      ],
      "text/plain": [
       "\u001b[1mModel: \"Convolution_Model\"\u001b[0m\n"
      ]
     },
     "metadata": {},
     "output_type": "display_data"
    },
    {
     "data": {
      "text/html": [
       "<pre style=\"white-space:pre;overflow-x:auto;line-height:normal;font-family:Menlo,'DejaVu Sans Mono',consolas,'Courier New',monospace\">┏━━━━━━━━━━━━━━━━━━━━━━━━━━━━━━━━━┳━━━━━━━━━━━━━━━━━━━━━━━━┳━━━━━━━━━━━━━━━┓\n",
       "┃<span style=\"font-weight: bold\"> Layer (type)                    </span>┃<span style=\"font-weight: bold\"> Output Shape           </span>┃<span style=\"font-weight: bold\">       Param # </span>┃\n",
       "┡━━━━━━━━━━━━━━━━━━━━━━━━━━━━━━━━━╇━━━━━━━━━━━━━━━━━━━━━━━━╇━━━━━━━━━━━━━━━┩\n",
       "│ conv2d (<span style=\"color: #0087ff; text-decoration-color: #0087ff\">Conv2D</span>)                 │ (<span style=\"color: #00d7ff; text-decoration-color: #00d7ff\">None</span>, <span style=\"color: #00af00; text-decoration-color: #00af00\">126</span>, <span style=\"color: #00af00; text-decoration-color: #00af00\">126</span>, <span style=\"color: #00af00; text-decoration-color: #00af00\">32</span>)   │           <span style=\"color: #00af00; text-decoration-color: #00af00\">320</span> │\n",
       "├─────────────────────────────────┼────────────────────────┼───────────────┤\n",
       "│ max_pooling2d (<span style=\"color: #0087ff; text-decoration-color: #0087ff\">MaxPooling2D</span>)    │ (<span style=\"color: #00d7ff; text-decoration-color: #00d7ff\">None</span>, <span style=\"color: #00af00; text-decoration-color: #00af00\">63</span>, <span style=\"color: #00af00; text-decoration-color: #00af00\">63</span>, <span style=\"color: #00af00; text-decoration-color: #00af00\">32</span>)     │             <span style=\"color: #00af00; text-decoration-color: #00af00\">0</span> │\n",
       "├─────────────────────────────────┼────────────────────────┼───────────────┤\n",
       "│ conv2d_1 (<span style=\"color: #0087ff; text-decoration-color: #0087ff\">Conv2D</span>)               │ (<span style=\"color: #00d7ff; text-decoration-color: #00d7ff\">None</span>, <span style=\"color: #00af00; text-decoration-color: #00af00\">60</span>, <span style=\"color: #00af00; text-decoration-color: #00af00\">60</span>, <span style=\"color: #00af00; text-decoration-color: #00af00\">32</span>)     │        <span style=\"color: #00af00; text-decoration-color: #00af00\">16,416</span> │\n",
       "├─────────────────────────────────┼────────────────────────┼───────────────┤\n",
       "│ max_pooling2d_1 (<span style=\"color: #0087ff; text-decoration-color: #0087ff\">MaxPooling2D</span>)  │ (<span style=\"color: #00d7ff; text-decoration-color: #00d7ff\">None</span>, <span style=\"color: #00af00; text-decoration-color: #00af00\">30</span>, <span style=\"color: #00af00; text-decoration-color: #00af00\">30</span>, <span style=\"color: #00af00; text-decoration-color: #00af00\">32</span>)     │             <span style=\"color: #00af00; text-decoration-color: #00af00\">0</span> │\n",
       "├─────────────────────────────────┼────────────────────────┼───────────────┤\n",
       "│ conv2d_2 (<span style=\"color: #0087ff; text-decoration-color: #0087ff\">Conv2D</span>)               │ (<span style=\"color: #00d7ff; text-decoration-color: #00d7ff\">None</span>, <span style=\"color: #00af00; text-decoration-color: #00af00\">28</span>, <span style=\"color: #00af00; text-decoration-color: #00af00\">28</span>, <span style=\"color: #00af00; text-decoration-color: #00af00\">64</span>)     │        <span style=\"color: #00af00; text-decoration-color: #00af00\">18,496</span> │\n",
       "├─────────────────────────────────┼────────────────────────┼───────────────┤\n",
       "│ max_pooling2d_2 (<span style=\"color: #0087ff; text-decoration-color: #0087ff\">MaxPooling2D</span>)  │ (<span style=\"color: #00d7ff; text-decoration-color: #00d7ff\">None</span>, <span style=\"color: #00af00; text-decoration-color: #00af00\">14</span>, <span style=\"color: #00af00; text-decoration-color: #00af00\">14</span>, <span style=\"color: #00af00; text-decoration-color: #00af00\">64</span>)     │             <span style=\"color: #00af00; text-decoration-color: #00af00\">0</span> │\n",
       "├─────────────────────────────────┼────────────────────────┼───────────────┤\n",
       "│ flatten (<span style=\"color: #0087ff; text-decoration-color: #0087ff\">Flatten</span>)               │ (<span style=\"color: #00d7ff; text-decoration-color: #00d7ff\">None</span>, <span style=\"color: #00af00; text-decoration-color: #00af00\">12544</span>)          │             <span style=\"color: #00af00; text-decoration-color: #00af00\">0</span> │\n",
       "├─────────────────────────────────┼────────────────────────┼───────────────┤\n",
       "│ dense (<span style=\"color: #0087ff; text-decoration-color: #0087ff\">Dense</span>)                   │ (<span style=\"color: #00d7ff; text-decoration-color: #00d7ff\">None</span>, <span style=\"color: #00af00; text-decoration-color: #00af00\">64</span>)             │       <span style=\"color: #00af00; text-decoration-color: #00af00\">802,880</span> │\n",
       "├─────────────────────────────────┼────────────────────────┼───────────────┤\n",
       "│ dense_1 (<span style=\"color: #0087ff; text-decoration-color: #0087ff\">Dense</span>)                 │ (<span style=\"color: #00d7ff; text-decoration-color: #00d7ff\">None</span>, <span style=\"color: #00af00; text-decoration-color: #00af00\">1</span>)              │            <span style=\"color: #00af00; text-decoration-color: #00af00\">65</span> │\n",
       "└─────────────────────────────────┴────────────────────────┴───────────────┘\n",
       "</pre>\n"
      ],
      "text/plain": [
       "┏━━━━━━━━━━━━━━━━━━━━━━━━━━━━━━━━━┳━━━━━━━━━━━━━━━━━━━━━━━━┳━━━━━━━━━━━━━━━┓\n",
       "┃\u001b[1m \u001b[0m\u001b[1mLayer (type)                   \u001b[0m\u001b[1m \u001b[0m┃\u001b[1m \u001b[0m\u001b[1mOutput Shape          \u001b[0m\u001b[1m \u001b[0m┃\u001b[1m \u001b[0m\u001b[1m      Param #\u001b[0m\u001b[1m \u001b[0m┃\n",
       "┡━━━━━━━━━━━━━━━━━━━━━━━━━━━━━━━━━╇━━━━━━━━━━━━━━━━━━━━━━━━╇━━━━━━━━━━━━━━━┩\n",
       "│ conv2d (\u001b[38;5;33mConv2D\u001b[0m)                 │ (\u001b[38;5;45mNone\u001b[0m, \u001b[38;5;34m126\u001b[0m, \u001b[38;5;34m126\u001b[0m, \u001b[38;5;34m32\u001b[0m)   │           \u001b[38;5;34m320\u001b[0m │\n",
       "├─────────────────────────────────┼────────────────────────┼───────────────┤\n",
       "│ max_pooling2d (\u001b[38;5;33mMaxPooling2D\u001b[0m)    │ (\u001b[38;5;45mNone\u001b[0m, \u001b[38;5;34m63\u001b[0m, \u001b[38;5;34m63\u001b[0m, \u001b[38;5;34m32\u001b[0m)     │             \u001b[38;5;34m0\u001b[0m │\n",
       "├─────────────────────────────────┼────────────────────────┼───────────────┤\n",
       "│ conv2d_1 (\u001b[38;5;33mConv2D\u001b[0m)               │ (\u001b[38;5;45mNone\u001b[0m, \u001b[38;5;34m60\u001b[0m, \u001b[38;5;34m60\u001b[0m, \u001b[38;5;34m32\u001b[0m)     │        \u001b[38;5;34m16,416\u001b[0m │\n",
       "├─────────────────────────────────┼────────────────────────┼───────────────┤\n",
       "│ max_pooling2d_1 (\u001b[38;5;33mMaxPooling2D\u001b[0m)  │ (\u001b[38;5;45mNone\u001b[0m, \u001b[38;5;34m30\u001b[0m, \u001b[38;5;34m30\u001b[0m, \u001b[38;5;34m32\u001b[0m)     │             \u001b[38;5;34m0\u001b[0m │\n",
       "├─────────────────────────────────┼────────────────────────┼───────────────┤\n",
       "│ conv2d_2 (\u001b[38;5;33mConv2D\u001b[0m)               │ (\u001b[38;5;45mNone\u001b[0m, \u001b[38;5;34m28\u001b[0m, \u001b[38;5;34m28\u001b[0m, \u001b[38;5;34m64\u001b[0m)     │        \u001b[38;5;34m18,496\u001b[0m │\n",
       "├─────────────────────────────────┼────────────────────────┼───────────────┤\n",
       "│ max_pooling2d_2 (\u001b[38;5;33mMaxPooling2D\u001b[0m)  │ (\u001b[38;5;45mNone\u001b[0m, \u001b[38;5;34m14\u001b[0m, \u001b[38;5;34m14\u001b[0m, \u001b[38;5;34m64\u001b[0m)     │             \u001b[38;5;34m0\u001b[0m │\n",
       "├─────────────────────────────────┼────────────────────────┼───────────────┤\n",
       "│ flatten (\u001b[38;5;33mFlatten\u001b[0m)               │ (\u001b[38;5;45mNone\u001b[0m, \u001b[38;5;34m12544\u001b[0m)          │             \u001b[38;5;34m0\u001b[0m │\n",
       "├─────────────────────────────────┼────────────────────────┼───────────────┤\n",
       "│ dense (\u001b[38;5;33mDense\u001b[0m)                   │ (\u001b[38;5;45mNone\u001b[0m, \u001b[38;5;34m64\u001b[0m)             │       \u001b[38;5;34m802,880\u001b[0m │\n",
       "├─────────────────────────────────┼────────────────────────┼───────────────┤\n",
       "│ dense_1 (\u001b[38;5;33mDense\u001b[0m)                 │ (\u001b[38;5;45mNone\u001b[0m, \u001b[38;5;34m1\u001b[0m)              │            \u001b[38;5;34m65\u001b[0m │\n",
       "└─────────────────────────────────┴────────────────────────┴───────────────┘\n"
      ]
     },
     "metadata": {},
     "output_type": "display_data"
    },
    {
     "data": {
      "text/html": [
       "<pre style=\"white-space:pre;overflow-x:auto;line-height:normal;font-family:Menlo,'DejaVu Sans Mono',consolas,'Courier New',monospace\"><span style=\"font-weight: bold\"> Total params: </span><span style=\"color: #00af00; text-decoration-color: #00af00\">838,177</span> (3.20 MB)\n",
       "</pre>\n"
      ],
      "text/plain": [
       "\u001b[1m Total params: \u001b[0m\u001b[38;5;34m838,177\u001b[0m (3.20 MB)\n"
      ]
     },
     "metadata": {},
     "output_type": "display_data"
    },
    {
     "data": {
      "text/html": [
       "<pre style=\"white-space:pre;overflow-x:auto;line-height:normal;font-family:Menlo,'DejaVu Sans Mono',consolas,'Courier New',monospace\"><span style=\"font-weight: bold\"> Trainable params: </span><span style=\"color: #00af00; text-decoration-color: #00af00\">838,177</span> (3.20 MB)\n",
       "</pre>\n"
      ],
      "text/plain": [
       "\u001b[1m Trainable params: \u001b[0m\u001b[38;5;34m838,177\u001b[0m (3.20 MB)\n"
      ]
     },
     "metadata": {},
     "output_type": "display_data"
    },
    {
     "data": {
      "text/html": [
       "<pre style=\"white-space:pre;overflow-x:auto;line-height:normal;font-family:Menlo,'DejaVu Sans Mono',consolas,'Courier New',monospace\"><span style=\"font-weight: bold\"> Non-trainable params: </span><span style=\"color: #00af00; text-decoration-color: #00af00\">0</span> (0.00 B)\n",
       "</pre>\n"
      ],
      "text/plain": [
       "\u001b[1m Non-trainable params: \u001b[0m\u001b[38;5;34m0\u001b[0m (0.00 B)\n"
      ]
     },
     "metadata": {},
     "output_type": "display_data"
    },
    {
     "name": "stdout",
     "output_type": "stream",
     "text": [
      "Epoch 1/30\n",
      "\u001b[1m505/505\u001b[0m \u001b[32m━━━━━━━━━━━━━━━━━━━━\u001b[0m\u001b[37m\u001b[0m \u001b[1m255s\u001b[0m 498ms/step - AUC: 0.5789 - Recall: 0.0631 - accuracy: 0.8071 - loss: 1.7578 - val_AUC: 0.7029 - val_Recall: 0.0968 - val_accuracy: 0.8309 - val_loss: 0.4265\n",
      "Epoch 2/30\n",
      "\u001b[1m505/505\u001b[0m \u001b[32m━━━━━━━━━━━━━━━━━━━━\u001b[0m\u001b[37m\u001b[0m \u001b[1m245s\u001b[0m 485ms/step - AUC: 0.6803 - Recall: 0.1732 - accuracy: 0.8282 - loss: 0.4325 - val_AUC: 0.7122 - val_Recall: 0.1072 - val_accuracy: 0.8313 - val_loss: 0.4287\n",
      "Epoch 3/30\n",
      "\u001b[1m505/505\u001b[0m \u001b[32m━━━━━━━━━━━━━━━━━━━━\u001b[0m\u001b[37m\u001b[0m \u001b[1m264s\u001b[0m 522ms/step - AUC: 0.6990 - Recall: 0.1809 - accuracy: 0.8324 - loss: 0.4231 - val_AUC: 0.7325 - val_Recall: 0.1686 - val_accuracy: 0.8395 - val_loss: 0.4098\n",
      "Epoch 4/30\n",
      "\u001b[1m505/505\u001b[0m \u001b[32m━━━━━━━━━━━━━━━━━━━━\u001b[0m\u001b[37m\u001b[0m \u001b[1m304s\u001b[0m 488ms/step - AUC: 0.6983 - Recall: 0.1885 - accuracy: 0.8325 - loss: 0.4260 - val_AUC: 0.7269 - val_Recall: 0.2664 - val_accuracy: 0.8142 - val_loss: 0.4271\n",
      "Epoch 5/30\n",
      "\u001b[1m505/505\u001b[0m \u001b[32m━━━━━━━━━━━━━━━━━━━━\u001b[0m\u001b[37m\u001b[0m \u001b[1m264s\u001b[0m 522ms/step - AUC: 0.7107 - Recall: 0.2189 - accuracy: 0.8389 - loss: 0.4161 - val_AUC: 0.7521 - val_Recall: 0.3018 - val_accuracy: 0.8393 - val_loss: 0.4044\n",
      "Epoch 6/30\n",
      "\u001b[1m505/505\u001b[0m \u001b[32m━━━━━━━━━━━━━━━━━━━━\u001b[0m\u001b[37m\u001b[0m \u001b[1m247s\u001b[0m 488ms/step - AUC: 0.7085 - Recall: 0.2003 - accuracy: 0.8415 - loss: 0.4098 - val_AUC: 0.7292 - val_Recall: 0.2123 - val_accuracy: 0.8445 - val_loss: 0.4160\n",
      "Epoch 7/30\n",
      "\u001b[1m505/505\u001b[0m \u001b[32m━━━━━━━━━━━━━━━━━━━━\u001b[0m\u001b[37m\u001b[0m \u001b[1m266s\u001b[0m 527ms/step - AUC: 0.7169 - Recall: 0.2263 - accuracy: 0.8434 - loss: 0.4050 - val_AUC: 0.7324 - val_Recall: 0.1363 - val_accuracy: 0.8406 - val_loss: 0.4081\n",
      "Epoch 8/30\n",
      "\u001b[1m505/505\u001b[0m \u001b[32m━━━━━━━━━━━━━━━━━━━━\u001b[0m\u001b[37m\u001b[0m \u001b[1m300s\u001b[0m 483ms/step - AUC: 0.7359 - Recall: 0.2362 - accuracy: 0.8482 - loss: 0.3944 - val_AUC: 0.7458 - val_Recall: 0.2799 - val_accuracy: 0.8423 - val_loss: 0.4028\n",
      "Epoch 9/30\n",
      "\u001b[1m505/505\u001b[0m \u001b[32m━━━━━━━━━━━━━━━━━━━━\u001b[0m\u001b[37m\u001b[0m \u001b[1m263s\u001b[0m 485ms/step - AUC: 0.7447 - Recall: 0.2573 - accuracy: 0.8492 - loss: 0.3897 - val_AUC: 0.7366 - val_Recall: 0.1353 - val_accuracy: 0.8367 - val_loss: 0.4074\n",
      "Epoch 10/30\n",
      "\u001b[1m505/505\u001b[0m \u001b[32m━━━━━━━━━━━━━━━━━━━━\u001b[0m\u001b[37m\u001b[0m \u001b[1m262s\u001b[0m 519ms/step - AUC: 0.7483 - Recall: 0.2606 - accuracy: 0.8466 - loss: 0.3940 - val_AUC: 0.7410 - val_Recall: 0.2300 - val_accuracy: 0.8399 - val_loss: 0.4197\n",
      "Epoch 11/30\n",
      "\u001b[1m505/505\u001b[0m \u001b[32m━━━━━━━━━━━━━━━━━━━━\u001b[0m\u001b[37m\u001b[0m \u001b[1m310s\u001b[0m 496ms/step - AUC: 0.7556 - Recall: 0.2637 - accuracy: 0.8482 - loss: 0.3911 - val_AUC: 0.7509 - val_Recall: 0.2914 - val_accuracy: 0.8397 - val_loss: 0.4139\n",
      "Epoch 12/30\n",
      "\u001b[1m505/505\u001b[0m \u001b[32m━━━━━━━━━━━━━━━━━━━━\u001b[0m\u001b[37m\u001b[0m \u001b[1m277s\u001b[0m 524ms/step - AUC: 0.7587 - Recall: 0.2830 - accuracy: 0.8530 - loss: 0.3822 - val_AUC: 0.7299 - val_Recall: 0.3486 - val_accuracy: 0.8215 - val_loss: 0.4506\n",
      "Epoch 13/30\n",
      "\u001b[1m505/505\u001b[0m \u001b[32m━━━━━━━━━━━━━━━━━━━━\u001b[0m\u001b[37m\u001b[0m \u001b[1m304s\u001b[0m 490ms/step - AUC: 0.7796 - Recall: 0.3099 - accuracy: 0.8593 - loss: 0.3706 - val_AUC: 0.7343 - val_Recall: 0.2591 - val_accuracy: 0.8441 - val_loss: 0.4065\n",
      "Epoch 14/30\n",
      "\u001b[1m505/505\u001b[0m \u001b[32m━━━━━━━━━━━━━━━━━━━━\u001b[0m\u001b[37m\u001b[0m \u001b[1m277s\u001b[0m 521ms/step - AUC: 0.7897 - Recall: 0.3646 - accuracy: 0.8667 - loss: 0.3626 - val_AUC: 0.7376 - val_Recall: 0.1655 - val_accuracy: 0.8412 - val_loss: 0.4328\n",
      "Epoch 15/30\n",
      "\u001b[1m505/505\u001b[0m \u001b[32m━━━━━━━━━━━━━━━━━━━━\u001b[0m\u001b[37m\u001b[0m \u001b[1m302s\u001b[0m 482ms/step - AUC: 0.7976 - Recall: 0.3463 - accuracy: 0.8692 - loss: 0.3521 - val_AUC: 0.7519 - val_Recall: 0.2799 - val_accuracy: 0.8460 - val_loss: 0.4002\n",
      "Epoch 16/30\n",
      "\u001b[1m505/505\u001b[0m \u001b[32m━━━━━━━━━━━━━━━━━━━━\u001b[0m\u001b[37m\u001b[0m \u001b[1m255s\u001b[0m 504ms/step - AUC: 0.8118 - Recall: 0.3529 - accuracy: 0.8718 - loss: 0.3393 - val_AUC: 0.7212 - val_Recall: 0.3736 - val_accuracy: 0.8148 - val_loss: 0.4789\n",
      "Epoch 17/30\n",
      "\u001b[1m505/505\u001b[0m \u001b[32m━━━━━━━━━━━━━━━━━━━━\u001b[0m\u001b[37m\u001b[0m \u001b[1m256s\u001b[0m 492ms/step - AUC: 0.8242 - Recall: 0.3899 - accuracy: 0.8748 - loss: 0.3317 - val_AUC: 0.7449 - val_Recall: 0.3091 - val_accuracy: 0.8443 - val_loss: 0.4147\n",
      "Epoch 18/30\n",
      "\u001b[1m505/505\u001b[0m \u001b[32m━━━━━━━━━━━━━━━━━━━━\u001b[0m\u001b[37m\u001b[0m \u001b[1m253s\u001b[0m 502ms/step - AUC: 0.8447 - Recall: 0.4093 - accuracy: 0.8800 - loss: 0.3181 - val_AUC: 0.7215 - val_Recall: 0.2320 - val_accuracy: 0.8451 - val_loss: 0.4262\n",
      "Epoch 19/30\n",
      "\u001b[1m505/505\u001b[0m \u001b[32m━━━━━━━━━━━━━━━━━━━━\u001b[0m\u001b[37m\u001b[0m \u001b[1m262s\u001b[0m 520ms/step - AUC: 0.8402 - Recall: 0.4036 - accuracy: 0.8806 - loss: 0.3170 - val_AUC: 0.7045 - val_Recall: 0.2633 - val_accuracy: 0.8425 - val_loss: 0.4429\n",
      "Epoch 20/30\n",
      "\u001b[1m505/505\u001b[0m \u001b[32m━━━━━━━━━━━━━━━━━━━━\u001b[0m\u001b[37m\u001b[0m \u001b[1m245s\u001b[0m 484ms/step - AUC: 0.8531 - Recall: 0.4122 - accuracy: 0.8850 - loss: 0.3042 - val_AUC: 0.7252 - val_Recall: 0.2893 - val_accuracy: 0.8447 - val_loss: 0.4346\n",
      "Epoch 21/30\n",
      "\u001b[1m505/505\u001b[0m \u001b[32m━━━━━━━━━━━━━━━━━━━━\u001b[0m\u001b[37m\u001b[0m \u001b[1m259s\u001b[0m 513ms/step - AUC: 0.8554 - Recall: 0.4297 - accuracy: 0.8784 - loss: 0.3158 - val_AUC: 0.7028 - val_Recall: 0.2196 - val_accuracy: 0.8428 - val_loss: 0.4764\n",
      "Epoch 22/30\n",
      "\u001b[1m505/505\u001b[0m \u001b[32m━━━━━━━━━━━━━━━━━━━━\u001b[0m\u001b[37m\u001b[0m \u001b[1m248s\u001b[0m 486ms/step - AUC: 0.8741 - Recall: 0.4519 - accuracy: 0.8898 - loss: 0.2886 - val_AUC: 0.6886 - val_Recall: 0.2560 - val_accuracy: 0.8386 - val_loss: 0.4843\n",
      "Epoch 23/30\n",
      "\u001b[1m505/505\u001b[0m \u001b[32m━━━━━━━━━━━━━━━━━━━━\u001b[0m\u001b[37m\u001b[0m \u001b[1m258s\u001b[0m 479ms/step - AUC: 0.8773 - Recall: 0.4677 - accuracy: 0.8887 - loss: 0.2911 - val_AUC: 0.7031 - val_Recall: 0.2497 - val_accuracy: 0.8441 - val_loss: 0.5010\n",
      "Epoch 24/30\n",
      "\u001b[1m505/505\u001b[0m \u001b[32m━━━━━━━━━━━━━━━━━━━━\u001b[0m\u001b[37m\u001b[0m \u001b[1m288s\u001b[0m 529ms/step - AUC: 0.8860 - Recall: 0.4741 - accuracy: 0.8918 - loss: 0.2793 - val_AUC: 0.7078 - val_Recall: 0.3580 - val_accuracy: 0.8239 - val_loss: 0.5614\n",
      "Epoch 25/30\n",
      "\u001b[1m505/505\u001b[0m \u001b[32m━━━━━━━━━━━━━━━━━━━━\u001b[0m\u001b[37m\u001b[0m \u001b[1m301s\u001b[0m 489ms/step - AUC: 0.8950 - Recall: 0.4889 - accuracy: 0.8984 - loss: 0.2628 - val_AUC: 0.7157 - val_Recall: 0.2841 - val_accuracy: 0.8406 - val_loss: 0.5245\n",
      "Epoch 26/30\n",
      "\u001b[1m505/505\u001b[0m \u001b[32m━━━━━━━━━━━━━━━━━━━━\u001b[0m\u001b[37m\u001b[0m \u001b[1m261s\u001b[0m 517ms/step - AUC: 0.8994 - Recall: 0.4974 - accuracy: 0.8984 - loss: 0.2621 - val_AUC: 0.6822 - val_Recall: 0.3049 - val_accuracy: 0.8354 - val_loss: 0.6097\n",
      "Epoch 27/30\n",
      "\u001b[1m505/505\u001b[0m \u001b[32m━━━━━━━━━━━━━━━━━━━━\u001b[0m\u001b[37m\u001b[0m \u001b[1m246s\u001b[0m 486ms/step - AUC: 0.9036 - Recall: 0.5068 - accuracy: 0.9006 - loss: 0.2562 - val_AUC: 0.7126 - val_Recall: 0.3039 - val_accuracy: 0.8404 - val_loss: 0.5680\n",
      "Epoch 28/30\n",
      "\u001b[1m505/505\u001b[0m \u001b[32m━━━━━━━━━━━━━━━━━━━━\u001b[0m\u001b[37m\u001b[0m \u001b[1m246s\u001b[0m 486ms/step - AUC: 0.9140 - Recall: 0.5522 - accuracy: 0.9116 - loss: 0.2344 - val_AUC: 0.6768 - val_Recall: 0.3007 - val_accuracy: 0.8373 - val_loss: 0.5836\n",
      "Epoch 29/30\n",
      "\u001b[1m505/505\u001b[0m \u001b[32m━━━━━━━━━━━━━━━━━━━━\u001b[0m\u001b[37m\u001b[0m \u001b[1m264s\u001b[0m 490ms/step - AUC: 0.9109 - Recall: 0.5233 - accuracy: 0.9038 - loss: 0.2465 - val_AUC: 0.6829 - val_Recall: 0.3621 - val_accuracy: 0.8298 - val_loss: 0.6841\n",
      "Epoch 30/30\n",
      "\u001b[1m505/505\u001b[0m \u001b[32m━━━━━━━━━━━━━━━━━━━━\u001b[0m\u001b[37m\u001b[0m \u001b[1m244s\u001b[0m 483ms/step - AUC: 0.9111 - Recall: 0.5115 - accuracy: 0.9035 - loss: 0.2471 - val_AUC: 0.7016 - val_Recall: 0.3382 - val_accuracy: 0.8330 - val_loss: 0.5958\n"
     ]
    }
   ],
   "source": [
    "#Create the Keras Sequential Model\n",
    "import keras\n",
    "from keras import layers\n",
    "from keras import ops\n",
    "\n",
    "#Use a sequential layer, Conv2D followed by MaxPooling2D downsamples - repeat and then use dense layer to get an output\n",
    "model = keras.Sequential(name=\"Convolution_Model\") #Empty Keras Model that we will add to incrementally.\n",
    "\n",
    "\n",
    "model.add(layers.Conv2D(32, (3, 3), activation='relu', input_shape=(128, 128,  1))) #128*128*1 is the input shape [128px *128px * 1 colour channel]\n",
    "model.add(layers.MaxPooling2D((2, 2))) #Downsamples #Creates an output shape based upon the stride and pool size \n",
    "model.add(layers.Conv2D(32, (4, 4), activation='relu'))\n",
    "model.add(layers.MaxPooling2D((2, 2)))\n",
    "model.add(layers.Conv2D(64, (3, 3), activation='relu'))\n",
    "model.add(layers.MaxPooling2D((2, 2)))\n",
    "model.add(layers.Flatten())\n",
    "model.add(layers.Dense(64, activation='relu')) #In dense layers, every neuron is connected to the neuron in the previous layer\n",
    "model.add(layers.Dense(1, activation='sigmoid'))\n",
    "model.summary() # Get the summary of the model\n",
    "\n",
    "#Layers Documentation used\n",
    "#https://keras.io/api/layers/pooling_layers/max_pooling2d/\n",
    "#https://keras.io/api/layers/core_layers/dense/\n",
    "\n",
    "#Activation Functions\n",
    "# ReLu -> input>0\n",
    "# Sigmoid -> 1/(1+e^-x) [Creates an S shape]\n",
    "\n",
    "model.compile(optimizer='adam',loss='binary_crossentropy',metrics=['accuracy', 'Recall', 'AUC'])\n",
    "training_results = model.fit(training_images,train_labels,epochs=30,batch_size=32,validation_data=(validation_images, val_labels)) #Train the model and store the training results\n"
   ]
  },
  {
   "cell_type": "code",
   "execution_count": 16,
   "id": "b382a6d0",
   "metadata": {
    "execution": {
     "iopub.execute_input": "2024-05-06T22:26:28.023846Z",
     "iopub.status.busy": "2024-05-06T22:26:28.021508Z",
     "iopub.status.idle": "2024-05-06T22:26:57.444753Z",
     "shell.execute_reply": "2024-05-06T22:26:57.442508Z"
    },
    "papermill": {
     "duration": 31.05123,
     "end_time": "2024-05-06T22:26:57.452651",
     "exception": false,
     "start_time": "2024-05-06T22:26:26.401421",
     "status": "completed"
    },
    "tags": []
   },
   "outputs": [
    {
     "name": "stdout",
     "output_type": "stream",
     "text": [
      "\u001b[1m119/119\u001b[0m \u001b[32m━━━━━━━━━━━━━━━━━━━━\u001b[0m\u001b[37m\u001b[0m \u001b[1m27s\u001b[0m 224ms/step - AUC: 0.6872 - Recall: 0.3587 - accuracy: 0.8305 - loss: 0.6197\n"
     ]
    },
    {
     "data": {
      "text/plain": [
       "[0.6394062638282776,\n",
       " 0.8276315927505493,\n",
       " 0.33480826020240784,\n",
       " 0.6780419945716858]"
      ]
     },
     "execution_count": 16,
     "metadata": {},
     "output_type": "execute_result"
    }
   ],
   "source": [
    "#Evaluate the model against the testing data.\n",
    "model.evaluate(x=testing_images, y=test_labels)"
   ]
  },
  {
   "cell_type": "code",
   "execution_count": 17,
   "id": "ac3ddbd7",
   "metadata": {
    "execution": {
     "iopub.execute_input": "2024-05-06T22:27:01.956610Z",
     "iopub.status.busy": "2024-05-06T22:27:01.956184Z",
     "iopub.status.idle": "2024-05-06T22:27:22.751955Z",
     "shell.execute_reply": "2024-05-06T22:27:22.750356Z"
    },
    "papermill": {
     "duration": 22.639711,
     "end_time": "2024-05-06T22:27:22.755570",
     "exception": false,
     "start_time": "2024-05-06T22:27:00.115859",
     "status": "completed"
    },
    "tags": []
   },
   "outputs": [
    {
     "name": "stdout",
     "output_type": "stream",
     "text": [
      "\u001b[1m119/119\u001b[0m \u001b[32m━━━━━━━━━━━━━━━━━━━━\u001b[0m\u001b[37m\u001b[0m \u001b[1m17s\u001b[0m 140ms/step\n"
     ]
    }
   ],
   "source": [
    "#Or alternatively, predict the testing data\n",
    "predictions = model.predict(testing_images)"
   ]
  }
 ],
 "metadata": {
  "kaggle": {
   "accelerator": "none",
   "dataSources": [
    {
     "datasetId": 762203,
     "sourceId": 1353811,
     "sourceType": "datasetVersion"
    }
   ],
   "dockerImageVersionId": 30698,
   "isGpuEnabled": false,
   "isInternetEnabled": false,
   "language": "python",
   "sourceType": "notebook"
  },
  "kernelspec": {
   "display_name": "Python 3",
   "language": "python",
   "name": "python3"
  },
  "language_info": {
   "codemirror_mode": {
    "name": "ipython",
    "version": 3
   },
   "file_extension": ".py",
   "mimetype": "text/x-python",
   "name": "python",
   "nbconvert_exporter": "python",
   "pygments_lexer": "ipython3",
   "version": "3.10.13"
  },
  "papermill": {
   "default_parameters": {},
   "duration": 8696.391424,
   "end_time": "2024-05-06T22:27:27.067753",
   "environment_variables": {},
   "exception": null,
   "input_path": "__notebook__.ipynb",
   "output_path": "__notebook__.ipynb",
   "parameters": {},
   "start_time": "2024-05-06T20:02:30.676329",
   "version": "2.5.0"
  }
 },
 "nbformat": 4,
 "nbformat_minor": 5
}
